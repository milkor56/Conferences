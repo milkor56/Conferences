{
 "cells": [
  {
   "cell_type": "code",
   "execution_count": null,
   "metadata": {},
   "outputs": [],
   "source": [
    "# Simplifying Data Management Using the Cityworks API and Python\n",
    "# June 2021\n",
    "#\n",
    "# Miklos Nadas, GISP\n",
    "# miklos_nadas@clevelandwater.com \n",
    "#\n",
    "# City of Cleveland\n",
    "\n",
    "# Agenda\n",
    "\n",
    "# 1. Project Description - Bulk Importing Inspections into Cityworks\n",
    "#    a. Background\n",
    "#        i. Survey123 was used to inventory and inspect Guardrails for the Department of Streets\n",
    "#       ii. Cityworks should contain all work history information\n",
    "#    b. Problem Statement - How to import ~3000 guardrail inspections from Survey123 to Cityworks\n",
    "#    c. Solution - Python & Cityworks API\n",
    "#\n",
    "# 2. Introduction\n",
    "#    a. Python & Jupyter\n",
    "#    b. Miklos Nadas, GISP\n",
    "#    c. City of Cleveland \n",
    "#\n",
    "# 3. Cityworks at the City of Cleveland\n",
    "#    a. Number of Users\n",
    "#    b. Number of the types of Work Activities\n",
    "#    c. Amount of Work Activities\n",
    "#\n",
    "# 4. Cityworks API\n",
    "#    a. Documentation\n",
    "#    b. Download\n",
    "#    c. Install\n",
    "#    d. Number of Cityworks Users\n",
    "#    e. Number of the types of Work Activities\n",
    "#\n",
    "# 5. Cityworks API and Python\n",
    "#    a. Manually Create Inspection\n",
    "#    b. Dissect Inspection creation into smaller API components\n",
    "#    c. Combine Everything to Bulk Upload Inspections\n",
    "#\n",
    "# 6. Closing Thoughts and Moving forward"
   ]
  },
  {
   "cell_type": "code",
   "execution_count": null,
   "metadata": {},
   "outputs": [],
   "source": [
    "# The libraries used for this presentation\n",
    "\n",
    "from arcgis import GIS             # Mapping, spatial analysis, data science, geospatial AI and automation\n",
    "import pwd                         # Personal password database\n",
    "import pypyodbc                    # Connect to SQL Server\n",
    "from IPython.display import Image  # Displays images in Jupyter\n",
    "import webbrowser                  # Web-browser controller\n",
    "import pandas                      # Data analysis and manipulation tool\n",
    "import os                          # Miscellaneous operating system interfaces"
   ]
  },
  {
   "cell_type": "code",
   "execution_count": null,
   "metadata": {},
   "outputs": [],
   "source": [
    "# My work history\n",
    "\n",
    "url = r'https://www.linkedin.com/in/miklosnadas'\n",
    "webbrowser.open(url)"
   ]
  },
  {
   "cell_type": "code",
   "execution_count": null,
   "metadata": {},
   "outputs": [],
   "source": [
    "# City of Cleveland logo\n",
    "\n",
    "city_image = r'C:\\data\\Cityworks_Innovate_2021\\pics\\City-Logo.jpg'\n",
    "Image(filename=city_image, width=200)"
   ]
  },
  {
   "cell_type": "code",
   "execution_count": null,
   "metadata": {},
   "outputs": [],
   "source": [
    "# Connecting to ArcGIS Online\n",
    "\n",
    "gis = GIS(r'http://www.arcgis.com/', 'user', pwd.getagolpwd())"
   ]
  },
  {
   "cell_type": "code",
   "execution_count": null,
   "metadata": {},
   "outputs": [],
   "source": [
    "# Creating a Map to show the location of Cleveland, OH\n",
    "\n",
    "map_cleveland = gis.map('Ohio')\n",
    "# Cleveland Point\n",
    "cleve_pnt = 'abcde12345'\n",
    "\n",
    "cleve_pnt_fs = gis.content.get(cleve_pnt)\n",
    "map_cleveland.add_layer(cleve_pnt_fs)"
   ]
  },
  {
   "cell_type": "code",
   "execution_count": null,
   "metadata": {},
   "outputs": [],
   "source": [
    "map_cleveland"
   ]
  },
  {
   "cell_type": "code",
   "execution_count": null,
   "metadata": {
    "scrolled": true
   },
   "outputs": [],
   "source": [
    "# Adding the Cleveland Boundary\n",
    "\n",
    "cleve_boundary = 'bcdef234567'\n",
    "cleve_boundary_fs = gis.content.get(cleve_boundary)\n",
    "\n",
    "map_cleveland.add_layer(cleve_boundary_fs.layers[0])\n",
    "map_cleveland.extent = [[-81.6, 41.7], [-81.8, 41.3]]"
   ]
  },
  {
   "cell_type": "code",
   "execution_count": null,
   "metadata": {},
   "outputs": [],
   "source": [
    "# Population of Cleveland using USA Block Groups\n",
    "block_groups = 'cdefgh345678'\n",
    "\n",
    "block_fs = gis.content.get(block_groups)\n",
    "\n",
    "sdf = pandas.DataFrame.spatial.from_layer(block_fs.layers[0])"
   ]
  },
  {
   "cell_type": "code",
   "execution_count": null,
   "metadata": {},
   "outputs": [],
   "source": [
    "sdf.head()"
   ]
  },
  {
   "cell_type": "code",
   "execution_count": null,
   "metadata": {},
   "outputs": [],
   "source": [
    "# Population of Cleveland\n",
    "\n",
    "print(\"2012 Population Cleveland from Census Block Groups: {}\".format('{:,}'.format(sdf.loc[sdf['WITHINCOC'] == 'Yes', 'POP2012'].sum())))"
   ]
  },
  {
   "cell_type": "code",
   "execution_count": null,
   "metadata": {},
   "outputs": [],
   "source": [
    "# Connection to Cityworks Database\n",
    "\n",
    "f = open(r\"C:\\data\\Cityworks_Innovate_2021\\sql_conn.txt\", \"r\")\n",
    "sqlconn = f.read()\n",
    "\n",
    "server = 'Server={}; '.format(sqlconn)\n",
    "\n",
    "f = open(r\"C:\\data\\Cityworks_Innovate_2021\\sql_user.txt\", \"r\")\n",
    "sqluser = f.read()\n",
    "\n",
    "connection = pypyodbc.connect('Driver={SQL Server}; ' + server + \n",
    "                              'Database=cityworksdatabase; '\n",
    "                             r'uid=' + sqluser + ';pwd=' + pwd.getpythonagolpwd())\n",
    "\n",
    "cursor = connection.cursor()"
   ]
  },
  {
   "cell_type": "code",
   "execution_count": null,
   "metadata": {},
   "outputs": [],
   "source": [
    "# Current City of Cleveland Domains\n",
    "\n",
    "domainSQLcommand = (\"SELECT [DOMAINNAME] \"\n",
    "                    \",[DESCRIPTION]\"\n",
    "                    \"FROM [cityworksdatabase].[azteca].[CWDOMAIN]\")\n",
    "\n",
    "cursor.execute(domainSQLcommand)\n",
    "\n",
    "i = 0\n",
    "for row in cursor.fetchall():\n",
    "    print(\"Domain ID:\\t{}\\t\\tDomain Description:\\t{}\".format(row[0], row[1]))\n",
    "    i += 1\n",
    "    \n",
    "print(\"\\nNumber of Domains: {}\".format(str(i)))"
   ]
  },
  {
   "cell_type": "code",
   "execution_count": null,
   "metadata": {},
   "outputs": [],
   "source": [
    "# Current Number of Active Cityworks users\n",
    "\n",
    "domainSQLcommand = (\"SELECT count(EMPLOYEESID) \"                    \n",
    "                    \"FROM [cityworksdatabase].[azteca].[EMPLOYEE]\"\n",
    "                    \"where EMPLOYEE.ISACTIVE = 'Y'\")\n",
    "\n",
    "cursor.execute(domainSQLcommand)\n",
    "\n",
    "for row in cursor.fetchall():\n",
    "    print(\"Number of active Cityworks Users: {}\".format(str(row[0])))"
   ]
  },
  {
   "cell_type": "code",
   "execution_count": null,
   "metadata": {},
   "outputs": [],
   "source": [
    "# Number of WO templates, Service Request Templates, and Inspection Templates\n",
    "\n",
    "domainSQLcommand = (\"SELECT count(WOTEMPLATEID) \"                    \n",
    "                    \"FROM [cityworksdatabase].[azteca].[WOTEMPLATE]\"\n",
    "                   # \"where DOMAINID=2\"\n",
    "                   )\n",
    "\n",
    "cursor.execute(domainSQLcommand)\n",
    "\n",
    "for row in cursor.fetchall():\n",
    "    wotemplates = row[0]\n",
    "    \n",
    "domainSQLcommand = (\"SELECT count(INSPTEMPLATEID) \"                    \n",
    "                    \"FROM [cityworksdatabase].[azteca].[INSPTEMPLATE]\"\n",
    "                   # \"where DOMAINID=2\"\n",
    "                   )\n",
    "\n",
    "cursor.execute(domainSQLcommand)\n",
    "\n",
    "for row in cursor.fetchall():\n",
    "    insptemplates = row[0]\n",
    "    \n",
    "domainSQLcommand = (\"SELECT count(PROBLEMSID) \"                    \n",
    "                    \"FROM [cityworksdatabase].[azteca].[PROBLEMLEAF]\"\n",
    "                   # \"where DOMAINID=2\"\n",
    "                   )\n",
    "\n",
    "cursor.execute(domainSQLcommand)\n",
    "\n",
    "for row in cursor.fetchall():\n",
    "    srtemplates = row[0]\n",
    "    \n",
    "print(\"Number of Service Request Templates: {}\".format(str(srtemplates)))\n",
    "print(\"Number of Inspection Templates: {}\".format(str(insptemplates)))\n",
    "print(\"Number of Work Order Templates: {}\".format(str(wotemplates)))"
   ]
  },
  {
   "cell_type": "code",
   "execution_count": null,
   "metadata": {},
   "outputs": [],
   "source": [
    "# Number of Work Orders, Service Requests, and Inspections\n",
    "\n",
    "domainSQLcommand = (\"SELECT count([REQUESTID]) \"\n",
    "                    \",MIN(DATETIMEINIT)\"\n",
    "                    \"FROM [cityworksdatabase].[azteca].[REQUEST]\")\n",
    "\n",
    "cursor.execute(domainSQLcommand)\n",
    "\n",
    "for row in cursor.fetchall():\n",
    "    srnum, srdate = row\n",
    "    \n",
    "domainSQLcommand = (\"SELECT count([WORKORDERID]) \"\n",
    "                    \",MIN(INITIATEDATE)\"\n",
    "                    \"FROM [cityworksdatabase].[azteca].[WORKORDER]\")\n",
    "\n",
    "cursor.execute(domainSQLcommand)\n",
    "\n",
    "for row in cursor.fetchall():\n",
    "    wonum, wodate = row\n",
    "    \n",
    "domainSQLcommand = (\"SELECT count([INSPECTIONID]) \"\n",
    "                    \",MIN(INSPDATE)\"\n",
    "                    \"FROM [cityworksdatabase].[azteca].[INSPECTION]\")\n",
    "\n",
    "cursor.execute(domainSQLcommand)\n",
    "\n",
    "for row in cursor.fetchall():\n",
    "    inspnum, inspdate = row\n",
    "    \n",
    "print(\"Earliest Work Activity Year:\\t{}\\n\".format(str(srdate.year)))\n",
    "    \n",
    "print(\"Number of Service Requests:\\t{}\".format('{:,}'.format(srnum)))\n",
    "print(\"Number of Inspections:\\t\\t{}\".format('{:,}'.format(inspnum)))\n",
    "print(\"Number of Work Orders:\\t\\t{}\".format('{:,}'.format(wonum)))"
   ]
  },
  {
   "cell_type": "code",
   "execution_count": null,
   "metadata": {
    "scrolled": true
   },
   "outputs": [],
   "source": [
    "# All Cityworks instances install the API documentation\n",
    "\n",
    "url = r'https://www.cityworksurl.com/cityworks/apidocs/'\n",
    "webbrowser.open(url)"
   ]
  },
  {
   "cell_type": "code",
   "execution_count": null,
   "metadata": {},
   "outputs": [],
   "source": [
    "# Download the SDK for your current Cityworks version\n",
    "\n",
    "url = r'https://mycityworks.force.com/s/article/Cityworks15-6-4Download'\n",
    "webbrowser.open(url)"
   ]
  },
  {
   "cell_type": "code",
   "execution_count": null,
   "metadata": {},
   "outputs": [],
   "source": [
    "# Installing Cityworks API on your Python Instance\n",
    "# in Command Prompt\n",
    "# <Python install location> <Cityworks Python API Install> install\n",
    "\n",
    "# C:\\Python\\python.exe C:\\Data\\temp\\python\\setup.py install"
   ]
  },
  {
   "cell_type": "code",
   "execution_count": null,
   "metadata": {},
   "outputs": [],
   "source": [
    "# Cityworks libraries used to create API calls\n",
    "\n",
    "import cwpy.cwServices, cwpy.cwMessagesAMS # to get the Cityworks token\n",
    "import requests, json # to make the rest of the Cityworks API Calls"
   ]
  },
  {
   "cell_type": "code",
   "execution_count": null,
   "metadata": {},
   "outputs": [],
   "source": [
    "# Function to convert Python dictionary to JSON.\n",
    "\n",
    "def data_to_json(data_dict): \n",
    "    token = cw_token\n",
    "    json_data = json.dumps(data_dict, separators=(\",\",\":\"))\n",
    "    if len(list(token)) == 0:\n",
    "        params = {\"data\": json_data}\n",
    "    else:\n",
    "        params = {\"token\": token, \"data\": json_data}\n",
    "    return params"
   ]
  },
  {
   "cell_type": "code",
   "execution_count": null,
   "metadata": {},
   "outputs": [],
   "source": [
    "# Function to make an API call.\n",
    "\n",
    "def make_request(url, params):  \n",
    "    response = requests.get(url, params=params)\n",
    "    return json.loads(response.text)"
   ]
  },
  {
   "cell_type": "code",
   "execution_count": null,
   "metadata": {},
   "outputs": [],
   "source": [
    "# City of Cleveland Test Instance\n",
    "\n",
    "base_url = \"https://www.cityworksurl.com/cityworks\""
   ]
  },
  {
   "cell_type": "code",
   "execution_count": null,
   "metadata": {},
   "outputs": [],
   "source": [
    "# To get the Cityworks Token\n",
    "\n",
    "services = cwpy.cwServices.Services()\n",
    "services.url = base_url\n",
    "base_url = base_url + r'/Services/'\n",
    "username = \"mnadas\"\n",
    "password = pwd.getcwpwd()\n",
    "auth_response = services.authenticate(username, password)\n",
    "cw_token = auth_response[\"Value\"][\"Token\"]"
   ]
  },
  {
   "cell_type": "code",
   "execution_count": null,
   "metadata": {},
   "outputs": [],
   "source": [
    "# Number of Employees\n",
    "\n",
    "url = base_url + 'Ams/Employee/All'\n",
    "data = {\"IncludeInactive\": 0}\n",
    "parameters = data_to_json(data)\n",
    "all_employees = make_request(url, parameters)\n",
    "\n",
    "print(\"Number of active Cityworks Users: {}\\n\".format(str(len(all_employees['Value']))))\n",
    "\n",
    "exampleURL = r'https://www.cityworksurl.com/cityworks/Services/Ams/Employee/All?data={\"IncludeInactive\":0}&token=' + cw_token\n",
    "print(exampleURL)\n",
    "# webbrowser.open(exampleURL)"
   ]
  },
  {
   "cell_type": "code",
   "execution_count": null,
   "metadata": {},
   "outputs": [],
   "source": [
    "# Number of Work Order Templates\n",
    "\n",
    "url = base_url + 'Ams/ServiceRequestTemplate/Search'\n",
    "data = {\"IsActive\": 1}\n",
    "parameters = data_to_json(data)\n",
    "results = make_request(url, parameters)\n",
    "\n",
    "print(\"Number of Service Request Templates from DB SQL: {}\".format(str(srtemplates)))\n",
    "print(\"Number of Service Request Templates from CW API: {}\\n\".format(str(len(results['Value']))))\n",
    "\n",
    "url = base_url + 'Ams/InspectionTemplate/Search'\n",
    "data = {\"IsActive\": 1}\n",
    "parameters = data_to_json(data)\n",
    "results = make_request(url, parameters)\n",
    "\n",
    "print(\"Number of Inspection Templates from DB SQL: {}\".format(str(insptemplates)))\n",
    "print(\"Number of Inspection Templates from CW API: {}\\n\".format(str(len(results['Value']))))\n",
    "\n",
    "url = base_url + 'Ams/WorkOrderTemplate/Search'\n",
    "data = {\"IsActive\": 1}\n",
    "parameters = data_to_json(data)\n",
    "results = make_request(url, parameters)\n",
    "\n",
    "print(\"Number of Work Order Templates from DB SQL: {}\".format(str(wotemplates)))\n",
    "print(\"Number of Work Order Templates from CW API: {}\\n\".format(str(len(results['Value']))))"
   ]
  },
  {
   "cell_type": "code",
   "execution_count": null,
   "metadata": {},
   "outputs": [],
   "source": [
    "# 1. Create CW Inspection\n",
    "\n",
    "insp_template = 70 # Created an DOS Asset Photo Inspection Template\n",
    "entity_type = 'GUARDRAILS'\n",
    "\n",
    "url = base_url + 'Ams/Inspection/Create'\n",
    "data = {\"EntityType\": entity_type, \"InspTemplateId\": insp_template}\n",
    "parameters = data_to_json(data)\n",
    "insp_create = make_request(url, parameters)\n",
    "\n",
    "insp_id = insp_create['Value']['InspectionId']\n",
    "\n",
    "# print(insp_create['Value'])"
   ]
  },
  {
   "cell_type": "code",
   "execution_count": null,
   "metadata": {},
   "outputs": [],
   "source": [
    "print(\"InspectionID: {}\".format(insp_create['Value']['InspectionId']))\n",
    "inspection_url = r'https://www.cityworksurl.com/cityworks/Workmanagement/InspectionEdit.aspx?InspectionId=' + str(insp_create['Value']['InspectionId'])\n",
    "webbrowser.open(inspection_url)"
   ]
  },
  {
   "cell_type": "code",
   "execution_count": null,
   "metadata": {},
   "outputs": [],
   "source": [
    "# 2. Update CW inspection\n",
    "\n",
    "url = base_url + 'Ams/Inspection/Update'\n",
    "\n",
    "data = {\"InspectionId\": insp_id,\n",
    "        \"DateSubmitTo\": '0001-01-01 00:00:00',\n",
    "        \"InspectionDate\": '2021-04-15 09:00:00', # today's date\n",
    "        \"InspectedBy\": str(12698), # inspector UID\n",
    "        }\n",
    "\n",
    "parameters = data_to_json(data)\n",
    "insp_update = make_request(url, parameters)\n",
    "print('Status: {}'.format(str(insp_update['Status'])))"
   ]
  },
  {
   "cell_type": "code",
   "execution_count": null,
   "metadata": {},
   "outputs": [],
   "source": [
    "# 3. Add entity to connect to GIS\n",
    "\n",
    "url = base_url + 'Ams/Inspection/AddEntity'\n",
    "\n",
    "data = {\n",
    "    \"EntityType\": entity_type,\n",
    "    \"InspectionId\": insp_id,\n",
    "    \"EntityUid\": '53254'\n",
    "    }\n",
    "parameters = data_to_json(data)\n",
    "entity_add = make_request(url, parameters)\n",
    "\n",
    "print('Status: {}'.format(str(entity_add['Status'])))"
   ]
  },
  {
   "cell_type": "code",
   "execution_count": null,
   "metadata": {},
   "outputs": [],
   "source": [
    "# 4. Attach a list of photos\n",
    "\n",
    "filepath = r'C:\\data\\Cityworks_Innovate_2021\\pics'\n",
    "photo_list = [os.path.join(filepath, 'guardrail_photo.jpg'), os.path.join(filepath, 'jimi-hendrix.jpg')]\n",
    "\n",
    "for filepath in photo_list:\n",
    "    attach = open(filepath, \"rb\")\n",
    "    attaches = {\"file\": (os.path.basename(filepath), attach)}\n",
    "    data = {\n",
    "        \"InspectionId\": insp_id,\n",
    "    }\n",
    "\n",
    "    url = base_url + 'Ams/Attachments/AddInspectionAttachment'\n",
    "    parameters = data_to_json(data)\n",
    "    response = requests.post(url=url, files=attaches, data=parameters)\n",
    "    attach_response = json.loads(response.text)\n",
    "    print('Status: {}'.format(str(attach_response['Status'])))"
   ]
  },
  {
   "cell_type": "code",
   "execution_count": null,
   "metadata": {},
   "outputs": [],
   "source": [
    "# 5. Close Inspection\n",
    "\n",
    "url = base_url + 'Ams/Inspection/Close'\n",
    "data = {\"InspectionIds\": [insp_id]}\n",
    "parameters = data_to_json(data)\n",
    "insp_close = make_request(url, parameters)\n",
    "print('Status: {}'.format(str(insp_close['Status'])))"
   ]
  },
  {
   "cell_type": "code",
   "execution_count": null,
   "metadata": {},
   "outputs": [],
   "source": [
    "# Read a table (csv or excel)\n",
    "# Separated into two tables\n",
    "# One table has just the assets\n",
    "# Second Table has the photos connected to the assets because you can have many photos to one asset\n",
    "\n",
    "xlsx_file = r'C:\\data\\Cityworks_Innovate_2021\\Guardrails_Asset_only.xlsx'\n",
    "df = pandas.read_excel(io=xlsx_file, sheet_name='Sheet1')\n",
    "\n",
    "xlsx_file = r'C:\\data\\Cityworks_Innovate_2021\\Guardrails_Asset_Photo_ID.xlsx'\n",
    "df_photo = pandas.read_excel(io=xlsx_file, sheet_name='Sheet1')"
   ]
  },
  {
   "cell_type": "code",
   "execution_count": null,
   "metadata": {},
   "outputs": [],
   "source": [
    "df"
   ]
  },
  {
   "cell_type": "code",
   "execution_count": null,
   "metadata": {},
   "outputs": [],
   "source": [
    "df_photo"
   ]
  },
  {
   "cell_type": "code",
   "execution_count": null,
   "metadata": {},
   "outputs": [],
   "source": [
    "# All together iterating through the rows of a table\n",
    "# to create, update, connect to GIS entity, upload photos, and close an inspection\n",
    "\n",
    "for i in df.index:\n",
    "    if not pandas.isna(df['assetid'][i]): # if there is no asset ID, skip it\n",
    "        print(\"Asset ID: {}\".format(str(df['objectid'][i])))\n",
    "\n",
    "        # 1. Create an Inspection\n",
    "        url = base_url + 'Ams/Inspection/Create'\n",
    "        data = {\"EntityType\": entity_type, \"InspTemplateId\": insp_template}\n",
    "        parameters = data_to_json(data)\n",
    "        insp_create = make_request(url, parameters)\n",
    "\n",
    "        insp_id = insp_create['Value']['InspectionId']\n",
    "\n",
    "        print(\"Inspection ID: {}\".format(str(insp_id)))\n",
    "\n",
    "        # 2. Update inspection\n",
    "        url = base_url + 'Ams/Inspection/Update'\n",
    "\n",
    "        data = {\"InspectionId\": insp_id,\n",
    "                \"DateSubmitTo\": '0001-01-01 00:00:00',\n",
    "                \"InspectionDate\": str(df['AssetCollectionDate'][i]),\n",
    "                \"InspectedBy\": str(12698),\n",
    "                }\n",
    "\n",
    "        parameters = data_to_json(data)\n",
    "        insp_update = make_request(url, parameters)\n",
    "\n",
    "        print(\"Inspection Updates: {}\".format(str(insp_update['Status'])))\n",
    "\n",
    "        # 3. Connect to GIS entity\n",
    "        url = base_url + 'Ams/Inspection/AddEntity'\n",
    "        data = {\n",
    "            \"EntityType\": entity_type,\n",
    "            \"InspectionId\": insp_id,\n",
    "            \"EntityUid\": str(df['assetid'][i])\n",
    "            }\n",
    "        parameters = data_to_json(data)\n",
    "        entity_add = make_request(url, parameters)\n",
    "\n",
    "        print(\"Entity Add Results: {}\".format(str(entity_add['Status'])))\n",
    "\n",
    "        # 4. Attach a list of photos\n",
    "        photo_list = []\n",
    "        objectid = str(df['assetid'][i])\n",
    "        rows = df_photo.index[df_photo['sdeglobalid'].isin([df['sdeglobalid'][i]])].tolist()\n",
    "        if len(rows) >= 1:\n",
    "            for row in rows:\n",
    "                photo_list.append(df_photo['photoloc'][row])\n",
    "\n",
    "        for filepath in photo_list:\n",
    "            attach = open(filepath, \"rb\")\n",
    "            attaches = {\"file\": (os.path.basename(filepath), attach)}\n",
    "            data = {\n",
    "                    \"InspectionId\": insp_id,\n",
    "                    }\n",
    "\n",
    "            url = base_url + 'Ams/Attachments/AddInspectionAttachment'\n",
    "            parameters = data_to_json(data)\n",
    "            response = requests.post(url=url, files=attaches, data=parameters)\n",
    "            attach_response = json.loads(response.text)\n",
    "\n",
    "            print(\"Photo Attach: {}\".format(str(attach_response['Status'])))\n",
    "\n",
    "\n",
    "        # 5. Close inspection\n",
    "        url = base_url + 'Ams/Inspection/Close'\n",
    "        data = {\"InspectionIds\": [insp_id]}\n",
    "\n",
    "        parameters = data_to_json(data)\n",
    "        insp_close = make_request(url, parameters)\n",
    "\n",
    "        print(\"Inspection Closed: {}\".format(str(insp_close['Status'])))\n",
    "\n",
    "        print(\"Complete Insp: {}\" .format(str(insp_id)))\n",
    "\n",
    "        inspection_url = r'https://www.cityworksurl.com/cityworks/Workmanagement/InspectionEdit.aspx?InspectionId=' + str(insp_id)\n",
    "        print(inspection_url)\n",
    "        print(\"\\n\")\n",
    "        #webbrowser.open(inspection_url)"
   ]
  },
  {
   "cell_type": "code",
   "execution_count": null,
   "metadata": {},
   "outputs": [],
   "source": [
    "# Final Thoughts on Simplifying Data Management Using the Cityworks API and Python\n",
    "# \n",
    "# 1. Can you do the process manually?\n",
    "# 2. Will you need to rerun this multiple times?\n",
    "# 3. Script is supposed to save time\n",
    "#    - developing a fully robust, error proof, user proof script may not be what is exactly needed\n",
    "# 4. Be familiar with the data\n",
    "# 5. Technology is always improving\n",
    "# 6. Always develop and test on a non-production Cityworks instance"
   ]
  },
  {
   "cell_type": "code",
   "execution_count": null,
   "metadata": {},
   "outputs": [],
   "source": [
    "# Moving forward with Cityworks at Cleveland\n",
    "#\n",
    "# 1. Upgrade to 15.6.4\n",
    "# 2. Another domain\n",
    "# 3. Another implementation into an existing domain\n",
    "# 4. Automate quality assurance testing for future upgrades and enhancements (more Python!)\n",
    "# 5. Postman for additional assistance and increasing API efficiency"
   ]
  },
  {
   "cell_type": "code",
   "execution_count": null,
   "metadata": {},
   "outputs": [],
   "source": [
    "# github link with Jupyter notebook\n",
    "\n",
    "github.com/milkor56/conferences"
   ]
  },
  {
   "cell_type": "code",
   "execution_count": null,
   "metadata": {},
   "outputs": [],
   "source": [
    "# Contact Information\n",
    "#\n",
    "# Miklos Nadas, GISP\n",
    "# City of Cleveland\n",
    "# miklos_nadas@clevelandwater.com\n",
    "#"
   ]
  }
 ],
 "metadata": {
  "kernelspec": {
   "display_name": "Python 3",
   "language": "python",
   "name": "python3"
  },
  "language_info": {
   "codemirror_mode": {
    "name": "ipython",
    "version": 3
   },
   "file_extension": ".py",
   "mimetype": "text/x-python",
   "name": "python",
   "nbconvert_exporter": "python",
   "pygments_lexer": "ipython3",
   "version": "3.8.2"
  }
 },
 "nbformat": 4,
 "nbformat_minor": 4
}
