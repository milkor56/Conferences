{
 "cells": [
  {
   "cell_type": "code",
   "execution_count": null,
   "metadata": {},
   "outputs": [],
   "source": [
    "# Automating Existing Processes using Python\n",
    "# May 2021\n",
    "#\n",
    "# Miklos Nadas, GISP\n",
    "# \n",
    "# City of Cleveland\n",
    "\n",
    "# Agenda\n",
    "#\n",
    "# 1. Introduction\n",
    "#    a. Python & Jupyter\n",
    "#    b. Miklos Nadas, GISP\n",
    "#    c. City of Cleveland\n",
    "#\n",
    "# 2. My Automation Steps\n",
    "#    a. Study the data\n",
    "#    b. Manually Perform Process\n",
    "#    c. Investigate Individual Steps (testing with API)\n",
    "#    d. Decision to Automate\n",
    "#        i.   Can it be automated?\n",
    "#        ii.  Will the process be repeated?\n",
    "#        iii. How much time will it take to automate?\n",
    "#    e. Automate!    \n",
    "#\n",
    "# 3. Photo Management\n",
    "#    a. Manual Process\n",
    "#    b. Investigate - PIL library\n",
    "#    c. Issues - Task Scheduler\n",
    "# \n",
    "# 4. Recreating address locators\n",
    "#    a. Manual Process\n",
    "#    b. Investigate - arcpy library (ArcGIS API)\n",
    "#    c. Issues - Cannot automate all properties\n",
    "#\n",
    "# 5. Cityworks and Survey123 Integration\n",
    "#    a. Manual Process\n",
    "#    b. Investigate - cwpy library (Cityworks API)\n",
    "#    c. Issues - Not end user friendly\n",
    "# \n",
    "# 6. Updating an ArcGIS Online Operations Dashboard\n",
    "#    a. Manual Process\n",
    "#    b. Investigate - arcgis library (ArcGIS Online API)\n",
    "#    c. Issues - Complicated\n",
    "#\n",
    "# 7. Closing Thoughts and Moving forward"
   ]
  },
  {
   "cell_type": "code",
   "execution_count": null,
   "metadata": {},
   "outputs": [],
   "source": [
    "# Python - open source programming language - utilized by Esri\n",
    "# Jupyter Notebooks - interactive data science and scientific computing"
   ]
  },
  {
   "cell_type": "code",
   "execution_count": null,
   "metadata": {},
   "outputs": [],
   "source": [
    "# The libraries used for this presentation\n",
    "\n",
    "from arcgis import GIS                       # Mapping, spatial analysis, data science, geospatial AI and automation\n",
    "from IPython.display import Image as jImage  # Displays images in Jupyter\n",
    "import webbrowser                            # Web-browser controller\n",
    "import pandas                                # Data analysis and manipulation tool\n",
    "import os                                    # Miscellaneous operating system interfaces\n",
    "import shutil                                # High-level operations on files, such as copying and removal\n",
    "from PIL import Image                        # Imaging library\n",
    "# import arcpy                               # ArcGIS API Library"
   ]
  },
  {
   "cell_type": "code",
   "execution_count": null,
   "metadata": {},
   "outputs": [],
   "source": [
    "# My work history\n",
    "\n",
    "url = r'https://www.linkedin.com/in/miklosnadas'\n",
    "webbrowser.open(url)"
   ]
  },
  {
   "cell_type": "code",
   "execution_count": null,
   "metadata": {},
   "outputs": [],
   "source": [
    "# City of Cleveland logo\n",
    "\n",
    "city_image = r'C:\\data\\NEOGIS_2021\\pics\\City-Logo.jpg'\n",
    "jImage(filename=city_image, width=200)"
   ]
  },
  {
   "cell_type": "code",
   "execution_count": null,
   "metadata": {},
   "outputs": [],
   "source": [
    "# Connecting to ArcGIS Online\n",
    "\n",
    "gis = GIS(r'http://www.arcgis.com/', 'user', 'password')"
   ]
  },
  {
   "cell_type": "code",
   "execution_count": null,
   "metadata": {},
   "outputs": [],
   "source": [
    "# Creating a Map to show the location of Cleveland, OH\n",
    "\n",
    "map_cleveland = gis.map('Ohio')\n",
    "# Cleveland Point\n",
    "cleve_pnt = '3e9ce2e14bb3452eb9ce3d6eab9b85a4'\n",
    "\n",
    "cleve_pnt_fs = gis.content.get(cleve_pnt)\n",
    "map_cleveland.add_layer(cleve_pnt_fs)"
   ]
  },
  {
   "cell_type": "code",
   "execution_count": null,
   "metadata": {},
   "outputs": [],
   "source": [
    "map_cleveland"
   ]
  },
  {
   "cell_type": "code",
   "execution_count": null,
   "metadata": {
    "scrolled": true
   },
   "outputs": [],
   "source": [
    "# Adding the Cleveland Boundary\n",
    "\n",
    "cleve_boundary = 'bd1f0a17a11d4610869ae3abbeb3646a'\n",
    "cleve_boundary_fs = gis.content.get(cleve_boundary)\n",
    "\n",
    "map_cleveland.add_layer(cleve_boundary_fs.layers[0])\n",
    "map_cleveland.extent = [[-81.6, 41.7], [-81.8, 41.3]]"
   ]
  },
  {
   "cell_type": "code",
   "execution_count": null,
   "metadata": {},
   "outputs": [],
   "source": [
    "# Population of Cleveland using USA Block Groups\n",
    "block_groups = 'b963313229bd44d5825a8f7352b09ce4'\n",
    "\n",
    "block_fs = gis.content.get(block_groups)\n",
    "\n",
    "sdf = pandas.DataFrame.spatial.from_layer(block_fs.layers[0])"
   ]
  },
  {
   "cell_type": "code",
   "execution_count": null,
   "metadata": {},
   "outputs": [],
   "source": [
    "sdf.head()"
   ]
  },
  {
   "cell_type": "code",
   "execution_count": null,
   "metadata": {},
   "outputs": [],
   "source": [
    "# Population of Cleveland\n",
    "\n",
    "print(\"2012 Population Cleveland from Census Block Groups: {}\".format('{:,}'.format(sdf.loc[sdf['WITHINCOC'] == 'Yes', 'POP2012'].sum())))"
   ]
  },
  {
   "cell_type": "code",
   "execution_count": null,
   "metadata": {},
   "outputs": [],
   "source": [
    "# 2. My Automation Steps\n",
    "#    a. Study the data\n",
    "#    b. Manually Perform Process\n",
    "#    c. Investigate Individual Steps (testing with API)\n",
    "#    d. Decision to Automate\n",
    "#        i.   Can it be automated?\n",
    "#        ii.  Will the process be repeated?\n",
    "#        iii. How much time will it take to automate?\n",
    "#    e. Automate!   "
   ]
  },
  {
   "cell_type": "code",
   "execution_count": null,
   "metadata": {},
   "outputs": [],
   "source": [
    "# 3. Photo Management\n",
    "#    a. Manual Process - IrfanView\n",
    "#    b. Investigate - PIL library\n",
    "#    c. Issues - Task Scheduler"
   ]
  },
  {
   "cell_type": "code",
   "execution_count": null,
   "metadata": {},
   "outputs": [],
   "source": [
    "# Photo to shrink\n",
    "\n",
    "photo_loc = r'C:\\data\\NEOGIS_2021\\pics\\hydrant.jpg'\n",
    "jImage(filename=photo_loc, width=400)"
   ]
  },
  {
   "cell_type": "code",
   "execution_count": null,
   "metadata": {},
   "outputs": [],
   "source": [
    "# Check size of photo\n",
    "\n",
    "bytesize = os.stat(photo_loc).st_size\n",
    "print(\"Byte size of photo: {}\".format('{:,}'.format(bytesize)))\n",
    "print(\"MB size of photo: {}\".format('{:,}'.format(bytesize/1000000)))"
   ]
  },
  {
   "cell_type": "code",
   "execution_count": null,
   "metadata": {},
   "outputs": [],
   "source": [
    "# If size of photo is over 1 MB, shrink it\n",
    "# If less than 1 MB, skip it\n",
    "\n",
    "if bytesize > 1000000:\n",
    "    print(\"Too Large! Shrink Photo!\")\n",
    "else:\n",
    "    print(\"Skip photo\")"
   ]
  },
  {
   "cell_type": "code",
   "execution_count": null,
   "metadata": {},
   "outputs": [],
   "source": [
    "# Define the back up location of the photo\n",
    "\n",
    "backup_photo = photo_loc[:-4] + \"_backup\" + photo_loc[-4:]\n",
    "print(backup_photo)"
   ]
  },
  {
   "cell_type": "code",
   "execution_count": null,
   "metadata": {},
   "outputs": [],
   "source": [
    "# Copy the original photo to the backup location\n",
    "\n",
    "shutil.copyfile(photo_loc, backup_photo)"
   ]
  },
  {
   "cell_type": "code",
   "execution_count": null,
   "metadata": {},
   "outputs": [],
   "source": [
    "# Display the backup photo\n",
    "\n",
    "jImage(filename=backup_photo, width=400)"
   ]
  },
  {
   "cell_type": "code",
   "execution_count": null,
   "metadata": {},
   "outputs": [],
   "source": [
    "# PIL API to access photo information\n",
    "\n",
    "img = Image.open(photo_loc)"
   ]
  },
  {
   "cell_type": "code",
   "execution_count": null,
   "metadata": {},
   "outputs": [],
   "source": [
    "# Dimensions of the photo\n",
    "\n",
    "img.size"
   ]
  },
  {
   "cell_type": "code",
   "execution_count": null,
   "metadata": {},
   "outputs": [],
   "source": [
    "# Size of one side of photo should be 1280\n",
    "# Adjust other side of photo appropriately\n",
    "\n",
    "img_size = img.size\n",
    "if img_size[0] > img_size[1]:\n",
    "    factor = 1280 / img_size[0]\n",
    "else:\n",
    "    factor = 1280 / img_size[1]\n",
    "print(factor)"
   ]
  },
  {
   "cell_type": "code",
   "execution_count": null,
   "metadata": {},
   "outputs": [],
   "source": [
    "# New dimensions of photo\n",
    "\n",
    "print(\"Size of side 0: {}\".format(img_size[0]))\n",
    "print(\"Size of side 1: {}\".format(img_size[1]))\n",
    "print(\"Reduced size of side 0: {}\".format(img_size[0] * factor))\n",
    "print(\"Reduced size of side 0: {}\".format(img_size[1] * factor))"
   ]
  },
  {
   "cell_type": "code",
   "execution_count": null,
   "metadata": {},
   "outputs": [],
   "source": [
    "# Create a new shrunken image in virtual memory\n",
    "\n",
    "new_img = img.resize((int(img_size[0] * factor), int(img_size[1] * factor)), Image.ANTIALIAS)"
   ]
  },
  {
   "cell_type": "code",
   "execution_count": null,
   "metadata": {},
   "outputs": [],
   "source": [
    "# Add metadata to new image\n",
    "# Overwrite original image\n",
    "\n",
    "exifdump = None\n",
    "try:\n",
    "    exifdump = img.info['exif']\n",
    "    new_img.save(photo_loc, img.format, optimize=True, exif=exifdump)\n",
    "    print(\"Shrank with exif: {}\".format(photo_loc))\n",
    "except:\n",
    "    print(\"No Exif Info: {}\".format(photo_loc))\n",
    "    new_img.save(photo_loc, img.format, optimize=True)\n",
    "    print(\"Shrank: {}\".format(photo_loc))"
   ]
  },
  {
   "cell_type": "code",
   "execution_count": null,
   "metadata": {},
   "outputs": [],
   "source": [
    "# Check size of new image and compare to original image\n",
    "\n",
    "bytesize = os.stat(photo_loc).st_size\n",
    "print(\"Byte size of shrunk photo: {}\".format('{:,}'.format(bytesize)))\n",
    "print(\"MB size of shrunk photo: {}\".format('{:,}'.format(bytesize/1000000)))\n",
    "bytesize_backup = os.stat(backup_photo).st_size\n",
    "print(\"Byte size of original photo: {}\".format('{:,}'.format(bytesize_backup)))\n",
    "print(\"MB size of original photo: {}\".format('{:,}'.format(bytesize_backup/1000000)))"
   ]
  },
  {
   "cell_type": "code",
   "execution_count": null,
   "metadata": {},
   "outputs": [],
   "source": [
    "# Review image to see if it is still viewable\n",
    "\n",
    "photo_loc = r'C:\\data\\NEOGIS_2021\\pics\\hydrant.jpg'\n",
    "jImage(filename=photo_loc, width=400)"
   ]
  },
  {
   "cell_type": "code",
   "execution_count": null,
   "metadata": {},
   "outputs": [],
   "source": [
    "# 3. Photo Management\n",
    "#    a. Combine pieces\n",
    "#        i.   Check size of drive and email (full, empty, total)\n",
    "#        ii.  Shrink the photos with detailed logging, checking, backups\n",
    "#        iii. Delete 2 week old backups with detailed logging and verifying\n",
    "#        iv.  Notify users of too many photos or large attachments\n",
    "#        v.   Check size of drive and email (full, empty, total)\n",
    "#    b. Issues - Task Scheduler"
   ]
  },
  {
   "cell_type": "code",
   "execution_count": null,
   "metadata": {},
   "outputs": [],
   "source": [
    "# 4. Recreating address locators\n",
    "#    a. Manual Process\n",
    "#    b. Investigate - arcpy library (ArcGIS API)\n",
    "#    c. Issues - Cannot automate all properties"
   ]
  },
  {
   "cell_type": "code",
   "execution_count": null,
   "metadata": {},
   "outputs": [],
   "source": [
    "# Run the Create Address Locator geoprocessing tool in ArcMap\n",
    "\n",
    "addr1_photo = r'C:\\data\\NEOGIS_2021\\pics\\Address_1.png'\n",
    "jImage(filename=addr1_photo, width=400)"
   ]
  },
  {
   "cell_type": "code",
   "execution_count": null,
   "metadata": {},
   "outputs": [],
   "source": [
    "# Copy as Python Snippet\n",
    "\n",
    "addr2_photo = r'C:\\data\\NEOGIS_2021\\pics\\Address_2.png'\n",
    "jImage(filename=addr2_photo, width=400)"
   ]
  },
  {
   "cell_type": "code",
   "execution_count": null,
   "metadata": {},
   "outputs": [],
   "source": [
    "# Address Point feature class\n",
    "\n",
    "f = open(r\"C:\\data\\NEOGIS_2021\\sdeloc.txt\", \"r\")\n",
    "sdeaddr = f.read()\n",
    "\n",
    "address_points = sdeaddr"
   ]
  },
  {
   "cell_type": "code",
   "execution_count": null,
   "metadata": {},
   "outputs": [],
   "source": [
    "# Export location of address locator\n",
    "\n",
    "outfldr = r'C:\\data\\NEOGIS_2021\\addr'\n",
    "loc_addr_pnts_name = 'Loc_Addr_Pnts'\n",
    "addr_path = os.path.join(outfldr, loc_addr_pnts_name)"
   ]
  },
  {
   "cell_type": "code",
   "execution_count": null,
   "metadata": {},
   "outputs": [],
   "source": [
    "# Python Snippet from Create Address Locator tool\n",
    "\n",
    "arcpy.CreateAddressLocator_geocoding(in_address_locator_style=\"US Address - Single House\",\n",
    "                                     in_reference_data=address_points + \" 'Primary Table'\",\n",
    "                                     in_field_map=\"'Point Address ID' ADDRESSID VISIBLE NONE;'Street ID' <None> VISIBLE NONE;'*House Number' ADDR_NUM VISIBLE NONE;Side <None> VISIBLE NONE;'Full Street Name' CAT_NAME VISIBLE NONE;'Prefix Direction' PRE_DIR VISIBLE NONE;'Prefix Type' <None> VISIBLE NONE;'*Street Name' STR_NAME VISIBLE NONE;'Suffix Type' STR_TYPE VISIBLE NONE;'Suffix Direction' SUF_DIR VISIBLE NONE;'City or Place' CITY VISIBLE NONE;County COUNTY VISIBLE NONE;State STATE VISIBLE NONE;'State Abbreviation' STATE VISIBLE NONE;'ZIP Code' ZIP VISIBLE NONE;'Country Code' <None> VISIBLE NONE;'3-Digit Language Code' <None> VISIBLE NONE;'2-Digit Language Code' <None> VISIBLE NONE;'Admin Language Code' <None> VISIBLE NONE;'Block ID' <None> VISIBLE NONE;'Street Rank' <None> VISIBLE NONE;'Display X' <None> VISIBLE NONE;'Display Y' <None> VISIBLE NONE;'Min X value for extent' <None> VISIBLE NONE;'Max X value for extent' <None> VISIBLE NONE;'Min Y value for extent' <None> VISIBLE NONE;'Max Y value for extent' <None> VISIBLE NONE;'Additional Field' <None> VISIBLE NONE;'Altname JoinID' <None> VISIBLE NONE;'City Altname JoinID' <None> VISIBLE NONE\",\n",
    "                                     out_address_locator=addr_path,\n",
    "                                     config_keyword=\"\",\n",
    "                                     enable_suggestions=\"ENABLED\")"
   ]
  },
  {
   "cell_type": "code",
   "execution_count": null,
   "metadata": {},
   "outputs": [],
   "source": [
    "# Additional properties not accessible by the API\n",
    "\n",
    "addr3_photo = r'C:\\data\\NEOGIS_2021\\pics\\Address_3.png'\n",
    "jImage(filename=addr3_photo, width=400)"
   ]
  },
  {
   "cell_type": "code",
   "execution_count": null,
   "metadata": {},
   "outputs": [],
   "source": [
    "# Original XML copied into new Address Locator\n",
    "\n",
    "addr4_photo = r'C:\\data\\NEOGIS_2021\\pics\\Address_4.png'\n",
    "jImage(filename=addr4_photo, width=700)"
   ]
  },
  {
   "cell_type": "code",
   "execution_count": null,
   "metadata": {},
   "outputs": [],
   "source": [
    "# Copy those properties from a previously configured address locator's XML\n",
    "\n",
    "defaultxml_path = r'C:\\data\\NEOGIS_2021\\addr\\default\\Loc_Addr_Pnts_default.loc.xml'\n",
    "\n",
    "if os.path.exists(addr_path + '.loc.xml'): os.remove(addr_path + '.loc.xml')\n",
    "shutil.copy2(defaultxml_path, outfldr)\n",
    "os.rename(os.path.join(outfldr, 'Loc_Addr_Pnts_default.loc.xml'), os.path.join(outfldr, loc_addr_pnts_name + '.loc.xml'))"
   ]
  },
  {
   "cell_type": "code",
   "execution_count": null,
   "metadata": {},
   "outputs": [],
   "source": [
    "# 4. Recreating address locators\n",
    "#    c. Issues - Cannot copy XML for composite address locators"
   ]
  },
  {
   "cell_type": "code",
   "execution_count": null,
   "metadata": {},
   "outputs": [],
   "source": [
    "# 5. Cityworks and Survey123 Integration\n",
    "#    a. Manual Process\n",
    "#    b. Investigate - cwpy library (Cityworks API)"
   ]
  },
  {
   "cell_type": "code",
   "execution_count": null,
   "metadata": {
    "scrolled": true
   },
   "outputs": [],
   "source": [
    "# All Cityworks instances install the API documentation\n",
    "\n",
    "url = r'https://www.cityworks.com/cityworks/apidocs/'\n",
    "webbrowser.open(url)"
   ]
  },
  {
   "cell_type": "code",
   "execution_count": null,
   "metadata": {},
   "outputs": [],
   "source": [
    "# Cityworks libraries used to create API calls\n",
    "\n",
    "import cwpy.cwServices, cwpy.cwMessagesAMS # to get the Cityworks token\n",
    "import requests, json # to make the rest of the Cityworks API Calls"
   ]
  },
  {
   "cell_type": "code",
   "execution_count": null,
   "metadata": {},
   "outputs": [],
   "source": [
    "# Function to convert Python dictionary to JSON.\n",
    "\n",
    "def data_to_json(data_dict): \n",
    "    token = cw_token\n",
    "    json_data = json.dumps(data_dict, separators=(\",\",\":\"))\n",
    "    if len(list(token)) == 0:\n",
    "        params = {\"data\": json_data}\n",
    "    else:\n",
    "        params = {\"token\": token, \"data\": json_data}\n",
    "    return params"
   ]
  },
  {
   "cell_type": "code",
   "execution_count": null,
   "metadata": {},
   "outputs": [],
   "source": [
    "# Function to make an API call.\n",
    "\n",
    "def make_request(url, params):  \n",
    "    response = requests.get(url, params=params)\n",
    "    return json.loads(response.text)"
   ]
  },
  {
   "cell_type": "code",
   "execution_count": null,
   "metadata": {},
   "outputs": [],
   "source": [
    "# City of Cleveland Sandbox Instance\n",
    "\n",
    "base_url = \"https://www.cityworks.com/cityworks\""
   ]
  },
  {
   "cell_type": "code",
   "execution_count": null,
   "metadata": {},
   "outputs": [],
   "source": [
    "# To get the Cityworks Token\n",
    "\n",
    "services = cwpy.cwServices.Services()\n",
    "services.url = base_url\n",
    "base_url = base_url + r'/Services/'\n",
    "username = \"user\"\n",
    "password =\"password\"\n",
    "auth_response = services.authenticate(username, password)\n",
    "cw_token = auth_response[\"Value\"][\"Token\"]"
   ]
  },
  {
   "cell_type": "code",
   "execution_count": null,
   "metadata": {},
   "outputs": [],
   "source": [
    "# CW Part 1. Create CW Inspection\n",
    "\n",
    "insp_template = 70 # Created an DOS Asset Photo Inspection Template\n",
    "entity_type = 'GUARDRAILS'\n",
    "\n",
    "url = base_url + 'Ams/Inspection/Create'\n",
    "data = {\"EntityType\": entity_type, \"InspTemplateId\": insp_template}\n",
    "parameters = data_to_json(data)\n",
    "insp_create = make_request(url, parameters)\n",
    "\n",
    "insp_id = insp_create['Value']['InspectionId']\n",
    "\n",
    "# print(insp_create['Value'])"
   ]
  },
  {
   "cell_type": "code",
   "execution_count": null,
   "metadata": {},
   "outputs": [],
   "source": [
    "print(\"InspectionID: {}\".format(insp_create['Value']['InspectionId']))\n",
    "inspection_url = r'https://cityworks-sb.clevelandgis.net/cityworksSB155miklos/Workmanagement/InspectionEdit.aspx?InspectionId=' + str(insp_create['Value']['InspectionId'])\n",
    "webbrowser.open(inspection_url)"
   ]
  },
  {
   "cell_type": "code",
   "execution_count": null,
   "metadata": {},
   "outputs": [],
   "source": [
    "# CW Part 2. Update CW inspection\n",
    "\n",
    "url = base_url + 'Ams/Inspection/Update'\n",
    "\n",
    "data = {\"InspectionId\": insp_id,\n",
    "        \"DateSubmitTo\": '0001-01-01 00:00:00',\n",
    "        \"InspectionDate\": '2021-04-16 09:00:00', # today's date\n",
    "        \"InspectedBy\": str(12698), # inspector UID\n",
    "        }\n",
    "\n",
    "parameters = data_to_json(data)\n",
    "insp_update = make_request(url, parameters)\n",
    "print('Status: {}'.format(str(insp_update['Status'])))"
   ]
  },
  {
   "cell_type": "code",
   "execution_count": null,
   "metadata": {},
   "outputs": [],
   "source": [
    "# CW Part 3. Add entity to connect to GIS\n",
    "\n",
    "url = base_url + 'Ams/Inspection/AddEntity'\n",
    "\n",
    "data = {\n",
    "    \"EntityType\": entity_type,\n",
    "    \"InspectionId\": insp_id,\n",
    "    \"EntityUid\": '53254'\n",
    "    }\n",
    "parameters = data_to_json(data)\n",
    "entity_add = make_request(url, parameters)\n",
    "\n",
    "print('Status: {}'.format(str(entity_add['Status'])))"
   ]
  },
  {
   "cell_type": "code",
   "execution_count": null,
   "metadata": {},
   "outputs": [],
   "source": [
    "# CW Part 4. Attach a list of photos\n",
    "\n",
    "filepath = r'C:\\data\\NEOGIS_2021\\pics'\n",
    "photo_list = [os.path.join(filepath, 'guardrail_photo.jpg'), os.path.join(filepath, 'jimi-hendrix.jpg')]\n",
    "\n",
    "for filepath in photo_list:\n",
    "    attach = open(filepath, \"rb\")\n",
    "    attaches = {\"file\": (os.path.basename(filepath), attach)}\n",
    "    data = {\n",
    "        \"InspectionId\": insp_id,\n",
    "    }\n",
    "\n",
    "    url = base_url + 'Ams/Attachments/AddInspectionAttachment'\n",
    "    parameters = data_to_json(data)\n",
    "    response = requests.post(url=url, files=attaches, data=parameters)\n",
    "    attach_response = json.loads(response.text)\n",
    "    print('Status: {}'.format(str(attach_response['Status'])))"
   ]
  },
  {
   "cell_type": "code",
   "execution_count": null,
   "metadata": {},
   "outputs": [],
   "source": [
    "# CW Part 5. Close Inspection\n",
    "\n",
    "url = base_url + 'Ams/Inspection/Close'\n",
    "data = {\"InspectionIds\": [insp_id]}\n",
    "parameters = data_to_json(data)\n",
    "insp_close = make_request(url, parameters)\n",
    "print('Status: {}'.format(str(insp_close['Status'])))"
   ]
  },
  {
   "cell_type": "code",
   "execution_count": null,
   "metadata": {},
   "outputs": [],
   "source": [
    "# 5. Cityworks and Survey123 Integration\n",
    "#    c. Issues\n",
    "#       i.   Did not provide robust error checking\n",
    "#       ii.  Only usable by a Pythonista"
   ]
  },
  {
   "cell_type": "code",
   "execution_count": null,
   "metadata": {},
   "outputs": [],
   "source": [
    "# 6. Updating an ArcGIS Online Operations Dashboard\n",
    "#    a. Manual Process - due to security\n",
    "#    b. Investigate - ArcGIS Online API\n",
    "#    c. Issues - Complicated"
   ]
  },
  {
   "cell_type": "code",
   "execution_count": null,
   "metadata": {},
   "outputs": [],
   "source": [
    "# Coronavirus Dashboard - ArcGIS Online Operations Dashboard\n",
    "#\n",
    "# 1. Provide 2 spreadsheets of confirmed and probable cases\n",
    "# 2. Schema changes happened by accident and without notification\n",
    "# 3. Python Steps\n",
    "#    a. Merge Probable and Confirmed cases\n",
    "#       i.   Update table headers (column names) to standard names\n",
    "#       ii.  Merge using Pandas\n",
    "#    b. Aggregate cases to ward and zip codes\n",
    "#       i.   Geocode cases\n",
    "#       ii.  Calculate latitude/longitude\n",
    "#       iii. Merge households\n",
    "#       iv.  Spatially joined with wards\n",
    "#       v.   Spatially joined with zip codes\n",
    "#       vi.  Export jpg maps\n",
    "#    c. Added and Updated cases to ArcGIS Online\n",
    "#       i.   Use pandas and ArcGIS Online API\n",
    "#       ii.  Download current ArcGIS Online of Cases Table\n",
    "#       iii. Compare downloaded table with latest spreadsheet\n",
    "#       iv.  Add if case is new\n",
    "#       v.   Update if case is different\n",
    "#    d. Update Internal Dashboard\n",
    "#       i.   Business Intelligence (BI) want to drill down in data\n",
    "#       ii.  Add Ohio and Cuyahoga confirmed and probable numbers\n",
    "#       iii. Update cases per zip code\n",
    "#    e. Update Public Dashboard\n",
    "#       i.   Static, no BI integration, no data drill down\n",
    "#       ii.  Calculate statistics (i.e. average age or % male vs female)\n",
    "#       iii. Update numbers\n",
    "# 4. Issues\n",
    "#    a. Could not update map, needed to manually trigger symbology update\n",
    "#    b. Manual and Automated process was difficult"
   ]
  },
  {
   "cell_type": "code",
   "execution_count": null,
   "metadata": {},
   "outputs": [],
   "source": [
    "# Cleveland Department of Public Health - Covid Dashboard\n",
    "\n",
    "url = r'https://www.arcgis.com/apps/dashboards/03b3bfc3eb82483b8c2c072e2abaefd2'\n",
    "webbrowser.open(url)"
   ]
  },
  {
   "cell_type": "code",
   "execution_count": null,
   "metadata": {},
   "outputs": [],
   "source": [
    "# Final Thoughts on Automating Existing Processes using Python\n",
    "#\n",
    "# 1. Automation Steps\n",
    "#    a. Manual Perform the Process\n",
    "#    b. Investigate\n",
    "#    c. Decision\n",
    "#    d. Automate"
   ]
  },
  {
   "cell_type": "code",
   "execution_count": null,
   "metadata": {},
   "outputs": [],
   "source": [
    "# Moving forward at Cleveland\n",
    "#\n",
    "# 1. Upgrade Cityworks\n",
    "# 2. Automate quality assurance testing for future upgrades and enhancements (more Python!)\n",
    "# 3. Postman for additional assistance and increasing API efficiency"
   ]
  },
  {
   "cell_type": "code",
   "execution_count": null,
   "metadata": {},
   "outputs": [],
   "source": [
    "# github link with Jupyter Notebook\n",
    "\n",
    "github.com/milkor56/conferences"
   ]
  },
  {
   "cell_type": "code",
   "execution_count": null,
   "metadata": {},
   "outputs": [],
   "source": [
    "# Contact Information\n",
    "#\n",
    "# Miklos Nadas, GISP\n",
    "# City of Cleveland\n",
    "# miklos_nadas@clevelandwater.com\n",
    "#"
   ]
  }
 ],
 "metadata": {
  "kernelspec": {
   "display_name": "Python 3",
   "language": "python",
   "name": "python3"
  },
  "language_info": {
   "codemirror_mode": {
    "name": "ipython",
    "version": 3
   },
   "file_extension": ".py",
   "mimetype": "text/x-python",
   "name": "python",
   "nbconvert_exporter": "python",
   "pygments_lexer": "ipython3",
   "version": "3.8.2"
  }
 },
 "nbformat": 4,
 "nbformat_minor": 4
}
